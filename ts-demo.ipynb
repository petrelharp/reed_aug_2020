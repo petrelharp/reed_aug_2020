{
 "cells": [
  {
   "cell_type": "markdown",
   "metadata": {},
   "source": [
    "# Simulating some genomes\n",
    "\n",
    "We'll simulate some \"human\" genomes using the [stdpopsim](https://stdpopsim.readthedocs.io/en/latest/) package,\n",
    "and manipulate the tree sequences with the tree sequence toolkit [tskit](https://tskit.readthedocs.io/en/latest/)."
   ]
  },
  {
   "cell_type": "code",
   "execution_count": 1,
   "metadata": {},
   "outputs": [],
   "source": [
    "# these can be installed with\n",
    "#   pip install tskit msprime stdpopsim\n",
    "import tskit, stdpopsim\n",
    "from IPython.display import SVG, display, clear_output\n",
    "import time\n",
    "import numpy as np"
   ]
  },
  {
   "cell_type": "markdown",
   "metadata": {},
   "source": [
    "Following one of stdpopsim's [tutorials](https://stdpopsim.readthedocs.io/en/latest/tutorial.html#running-stdpopsim-with-the-python-interface-api),\n",
    "let's simulate 30 copies of human chromosome 22,\n",
    "ten each sampled today from the three geographic regions:\n",
    "\"Africa\" (AFR), \"Northern Europe\" (CEU) and \"East Asian\" (CHB)."
   ]
  },
  {
   "cell_type": "code",
   "execution_count": 2,
   "metadata": {},
   "outputs": [],
   "source": [
    "species = stdpopsim.get_species(\"HomSap\")\n",
    "contig = species.get_contig(\"chr22\")\n",
    "model = species.get_demographic_model('OutOfAfrica_3G09')\n",
    "samples = model.get_samples(10, 10, 10)\n",
    "engine = stdpopsim.get_engine('msprime')"
   ]
  },
  {
   "cell_type": "markdown",
   "metadata": {},
   "source": [
    "This next step - the simulation - takes some time, but only a few minutes."
   ]
  },
  {
   "cell_type": "code",
   "execution_count": 3,
   "metadata": {},
   "outputs": [],
   "source": [
    "ts = engine.simulate(model, contig, samples)"
   ]
  },
  {
   "cell_type": "markdown",
   "metadata": {},
   "source": [
    "Great! Now let's look at what we have:"
   ]
  },
  {
   "cell_type": "code",
   "execution_count": 4,
   "metadata": {},
   "outputs": [
    {
     "name": "stdout",
     "output_type": "stream",
     "text": [
      "The tree sequence contains 90849 trees describing relationships between 55008 nodes along a genome of length 51304566bp, along which there are mutations at 95970 sites.\n"
     ]
    }
   ],
   "source": [
    "print(f\"The tree sequence contains {ts.num_trees} trees describing relationships between \"\n",
    "      f\"{ts.num_nodes} nodes along a genome of length {int(ts.sequence_length)}bp, \"\n",
    "      f\"along which there are mutations at {ts.num_sites} sites.\")"
   ]
  },
  {
   "cell_type": "code",
   "execution_count": 5,
   "metadata": {},
   "outputs": [
    {
     "data": {
      "text/plain": [
       "array([[0, 0, 1, ..., 0, 0, 0],\n",
       "       [0, 0, 0, ..., 0, 0, 0],\n",
       "       [1, 0, 0, ..., 0, 1, 0],\n",
       "       ...,\n",
       "       [0, 0, 0, ..., 1, 0, 0],\n",
       "       [0, 0, 0, ..., 0, 0, 1],\n",
       "       [1, 1, 1, ..., 0, 1, 0]], dtype=int8)"
      ]
     },
     "execution_count": 5,
     "metadata": {},
     "output_type": "execute_result"
    }
   ],
   "source": [
    "g = ts.genotype_matrix()\n",
    "g[:, :10]"
   ]
  },
  {
   "cell_type": "markdown",
   "metadata": {},
   "source": [
    "Now, some magic to be able to make pretty pictures of the trees:"
   ]
  },
  {
   "cell_type": "code",
   "execution_count": 6,
   "metadata": {},
   "outputs": [],
   "source": [
    "tables = ts.tables\n",
    "tables.populations.metadata_schema = tskit.MetadataSchema({'type': 'object', 'codec': 'json', 'properties': {'id': {'type': 'string'}, 'id': {'type': 'string'}, 'sampling_time': {'type': 'integer'}}})\n",
    "ts = tables.tree_sequence()"
   ]
  },
  {
   "cell_type": "code",
   "execution_count": 7,
   "metadata": {},
   "outputs": [],
   "source": [
    "def color_edges(t):\n",
    "    style = \"\"\n",
    "    pop_colors = {'YRI': 'red', 'CEU': 'blue', 'CHB': 'green'}\n",
    "    for n in t.nodes():\n",
    "        nn = list(t.samples(n))\n",
    "        pops = ts.tables.nodes.population[nn]\n",
    "        if len(set(pops)) == 1:\n",
    "            col = pop_colors[ts.population(pops[0]).metadata['id']]\n",
    "            style += f\" .tree .n{n} .edge {{stroke: {col} }} \"\n",
    "    return style"
   ]
  },
  {
   "cell_type": "markdown",
   "metadata": {},
   "source": [
    "And, here's the first tree (i.e., the one at the left edge of the chromosome).\n",
    "There are two mutations on it, both inherited by about half the African and European genomes,\n",
    "and one of the Asian genomes."
   ]
  },
  {
   "cell_type": "code",
   "execution_count": 8,
   "metadata": {},
   "outputs": [
    {
     "data": {
      "image/svg+xml": [
       "<svg baseProfile=\"full\" height=\"500\" id=\"first\" version=\"1.1\" width=\"800\" xmlns=\"http://www.w3.org/2000/svg\" xmlns:ev=\"http://www.w3.org/2001/xml-events\" xmlns:xlink=\"http://www.w3.org/1999/xlink\"><defs><style type=\"text/css\"><![CDATA[.axis {font-weight: bold}.tree, .axis {font-size: 14px; text-anchor:middle;}.edge {stroke: black; fill: none}.node > circle {r: 3px; fill: black; stroke: none}.tree text {dominant-baseline: middle}.mut > text.lft {transform: translateX(0.5em); text-anchor: start}.mut > text.rgt {transform: translateX(-0.5em); text-anchor: end}.root > text {transform: translateY(-0.8em)}.leaf > text {transform: translateY(1em)}.node > text.lft {transform: translate(0.5em, -0.5em); text-anchor: start}.node > text.rgt {transform: translate(-0.5em, -0.5em); text-anchor: end}.mut {fill: red; font-style: italic}]]></style><style type=\"text/css\"><![CDATA[first.tree .edge {stroke-width: 3pt} .tree .n3550 .edge {stroke: red }  .tree .n4 .edge {stroke: red }  .tree .n6 .edge {stroke: red }  .tree .n8 .edge {stroke: red }  .tree .n15 .edge {stroke: blue }  .tree .n2158 .edge {stroke: green }  .tree .n20 .edge {stroke: green }  .tree .n29 .edge {stroke: green }  .tree .n0 .edge {stroke: red }  .tree .n2599 .edge {stroke: blue }  .tree .n12 .edge {stroke: blue }  .tree .n14 .edge {stroke: blue }  .tree .n28 .edge {stroke: green }  .tree .n10 .edge {stroke: blue }  .tree .n23 .edge {stroke: green }  .tree .n28461 .edge {stroke: red }  .tree .n3 .edge {stroke: red }  .tree .n9082 .edge {stroke: red }  .tree .n2 .edge {stroke: red }  .tree .n5 .edge {stroke: red }  .tree .n9 .edge {stroke: red }  .tree .n4634 .edge {stroke: green }  .tree .n24 .edge {stroke: green }  .tree .n2566 .edge {stroke: green }  .tree .n25 .edge {stroke: green }  .tree .n91 .edge {stroke: green }  .tree .n21 .edge {stroke: green }  .tree .n27 .edge {stroke: green }  .tree .n7 .edge {stroke: red }  .tree .n4005 .edge {stroke: blue }  .tree .n647 .edge {stroke: blue }  .tree .n16 .edge {stroke: blue }  .tree .n17 .edge {stroke: blue }  .tree .n1873 .edge {stroke: blue }  .tree .n11 .edge {stroke: blue }  .tree .n19 .edge {stroke: blue }  .tree .n13 .edge {stroke: blue }  .tree .n22 .edge {stroke: green }  .tree .n26 .edge {stroke: green }  .tree .n1 .edge {stroke: red }  .tree .n18 .edge {stroke: blue } first.tree .node:not(.sample) > text {visibility: hidden}first.tree .node.leaf > text { transform: translateY(0.5em) rotate(90deg); text-anchor: start}]]></style></defs><g class=\"tree t0\"><g class=\"node n41032 root\" transform=\"translate(474.747 30.0)\"><g class=\"node n30444 p41032\" transform=\"translate(-212.839 224.393)\"><g class=\"node n3550 p30444\" transform=\"translate(37.4471 199.443)\"><g class=\"leaf node n4 p3550 sample\" transform=\"translate(-12.5806 16.1637)\"><path class=\"edge\" d=\"M 0 0 V -16.1637 H 12.5806\"/><circle cx=\"0\" cy=\"0\" r=\"1\"/><text>YRI</text></g><g class=\"leaf node n6 p3550 sample\" transform=\"translate(12.5806 16.1637)\"><path class=\"edge\" d=\"M 0 0 V -16.1637 H -12.5806\"/><circle cx=\"0\" cy=\"0\" r=\"1\"/><text>YRI</text></g><path class=\"edge\" d=\"M 0 0 V -199.443 H -37.4471\"/><circle cx=\"0\" cy=\"0\" r=\"1\"/><text class=\"lft\">YRI</text></g><g class=\"node n28556 p30444\" transform=\"translate(-37.4471 20.1733)\"><g class=\"leaf node n8 p28556 sample\" transform=\"translate(37.1522 195.434)\"><path class=\"edge\" d=\"M 0 0 V -195.434 H -37.1522\"/><circle cx=\"0\" cy=\"0\" r=\"1\"/><text>YRI</text></g><g class=\"node n12929 p28556\" transform=\"translate(-37.1522 138.644)\"><g class=\"leaf node n15 p12929 sample\" transform=\"translate(49.1431 56.7892)\"><path class=\"edge\" d=\"M 0 0 V -56.7892 H -49.1431\"/><circle cx=\"0\" cy=\"0\" r=\"1\"/><text>CEU</text></g><g class=\"node n12003 p12929\" transform=\"translate(-49.1431 5.18519)\"><g class=\"node n2158 p12003\" transform=\"translate(60.5444 38.5008)\"><g class=\"leaf node n20 p2158 sample\" transform=\"translate(-12.5806 13.1033)\"><path class=\"edge\" d=\"M 0 0 V -13.1033 H 12.5806\"/><circle cx=\"0\" cy=\"0\" r=\"1\"/><text>CHB</text></g><g class=\"leaf node n29 p2158 sample\" transform=\"translate(12.5806 13.1033)\"><path class=\"edge\" d=\"M 0 0 V -13.1033 H -12.5806\"/><circle cx=\"0\" cy=\"0\" r=\"1\"/><text>CHB</text></g><path class=\"edge\" d=\"M 0 0 V -38.5008 H -60.5444\"/><circle cx=\"0\" cy=\"0\" r=\"1\"/><text class=\"lft\">CHB</text></g><g class=\"node n10235 p12003\" transform=\"translate(-60.5444 9.48784)\"><g class=\"leaf node n0 p10235 sample\" transform=\"translate(-42.4597 42.1162)\"><path class=\"edge\" d=\"M 0 0 V -42.1162 H 42.4597\"/><circle cx=\"0\" cy=\"0\" r=\"1\"/><text>YRI</text></g><g class=\"node n7170 p10235\" transform=\"translate(42.4597 14.1527)\"><g class=\"node n2599 p7170\" transform=\"translate(28.3065 13.7783)\"><g class=\"leaf node n12 p2599 sample\" transform=\"translate(-12.5806 14.1852)\"><path class=\"edge\" d=\"M 0 0 V -14.1852 H 12.5806\"/><circle cx=\"0\" cy=\"0\" r=\"1\"/><text>CEU</text></g><g class=\"leaf node n14 p2599 sample\" transform=\"translate(12.5806 14.1852)\"><path class=\"edge\" d=\"M 0 0 V -14.1852 H -12.5806\"/><circle cx=\"0\" cy=\"0\" r=\"1\"/><text>CEU</text></g><path class=\"edge\" d=\"M 0 0 V -13.7783 H -28.3065\"/><circle cx=\"0\" cy=\"0\" r=\"1\"/><text class=\"lft\">CEU</text></g><g class=\"node n5121 p7170\" transform=\"translate(-28.3065 7.7196)\"><g class=\"leaf node n28 p5121 sample\" transform=\"translate(18.871 20.2439)\"><path class=\"edge\" d=\"M 0 0 V -20.2439 H -18.871\"/><circle cx=\"0\" cy=\"0\" r=\"1\"/><text>CHB</text></g><g class=\"node n3092 p5121\" transform=\"translate(-18.871 4.97798)\"><g class=\"leaf node n10 p3092 sample\" transform=\"translate(-12.5806 15.2659)\"><path class=\"edge\" d=\"M 0 0 V -15.2659 H 12.5806\"/><circle cx=\"0\" cy=\"0\" r=\"1\"/><text>CEU</text></g><g class=\"leaf node n23 p3092 sample\" transform=\"translate(12.5806 15.2659)\"><path class=\"edge\" d=\"M 0 0 V -15.2659 H -12.5806\"/><circle cx=\"0\" cy=\"0\" r=\"1\"/><text>CHB</text></g><path class=\"edge\" d=\"M 0 0 V -4.97798 H 18.871\"/><circle cx=\"0\" cy=\"0\" r=\"1\"/><text class=\"rgt\">CEU</text></g><path class=\"edge\" d=\"M 0 0 V -7.7196 H 28.3065\"/><circle cx=\"0\" cy=\"0\" r=\"1\"/><text class=\"rgt\">CEU</text></g><path class=\"edge\" d=\"M 0 0 V -14.1527 H -42.4597\"/><circle cx=\"0\" cy=\"0\" r=\"1\"/><text class=\"lft\">CEU</text></g><path class=\"edge\" d=\"M 0 0 V -9.48784 H 60.5444\"/><circle cx=\"0\" cy=\"0\" r=\"1\"/><text class=\"rgt\">CEU</text></g><path class=\"edge\" d=\"M 0 0 V -5.18519 H 49.1431\"/><circle cx=\"0\" cy=\"0\" r=\"1\"/><text class=\"rgt\">CEU</text></g><path class=\"edge\" d=\"M 0 0 V -138.644 H 37.1522\"/><circle cx=\"0\" cy=\"0\" r=\"1\"/><text class=\"rgt\">CEU</text></g><path class=\"edge\" d=\"M 0 0 V -20.1733 H 37.4471\"/><circle cx=\"0\" cy=\"0\" r=\"1\"/><text class=\"rgt\">YRI</text></g><path class=\"edge\" d=\"M 0 0 V -224.393 H 212.839\"/><circle cx=\"0\" cy=\"0\" r=\"1\"/><text class=\"rgt\">YRI</text></g><g class=\"node n38039 p41032\" transform=\"translate(212.839 88.0034)\"><g class=\"node n28461 p38039\" transform=\"translate(58.3821 157.516)\"><g class=\"leaf node n3 p28461 sample\" transform=\"translate(18.871 194.481)\"><path class=\"edge\" d=\"M 0 0 V -194.481 H -18.871\"/><circle cx=\"0\" cy=\"0\" r=\"1\"/><text>YRI</text></g><g class=\"node n9082 p28461\" transform=\"translate(-18.871 158.121)\"><g class=\"leaf node n2 p9082 sample\" transform=\"translate(-12.5806 36.3599)\"><path class=\"edge\" d=\"M 0 0 V -36.3599 H 12.5806\"/><circle cx=\"0\" cy=\"0\" r=\"1\"/><text>YRI</text></g><g class=\"leaf node n5 p9082 sample\" transform=\"translate(12.5806 36.3599)\"><path class=\"edge\" d=\"M 0 0 V -36.3599 H -12.5806\"/><circle cx=\"0\" cy=\"0\" r=\"1\"/><text>YRI</text></g><path class=\"edge\" d=\"M 0 0 V -158.121 H 18.871\"/><circle cx=\"0\" cy=\"0\" r=\"1\"/><text class=\"rgt\">YRI</text></g><path class=\"edge\" d=\"M 0 0 V -157.516 H -58.3821\"/><circle cx=\"0\" cy=\"0\" r=\"1\"/><text class=\"lft\">YRI</text></g><g class=\"node n34791 p38039\" transform=\"translate(-58.3821 70.7804)\"><g class=\"leaf node n9 p34791 sample\" transform=\"translate(60.1512 281.216)\"><path class=\"edge\" d=\"M 0 0 V -281.216 H -60.1512\"/><circle cx=\"0\" cy=\"0\" r=\"1\"/><text>YRI</text></g><g class=\"node n17829 p34791\" transform=\"translate(-60.1512 191.728)\"><g class=\"node n4634 p17829\" transform=\"translate(73.125 70.8689)\"><g class=\"leaf node n24 p4634 sample\" transform=\"translate(22.0161 18.619)\"><path class=\"edge\" d=\"M 0 0 V -18.619 H -22.0161\"/><circle cx=\"0\" cy=\"0\" r=\"1\"/><text>CHB</text></g><g class=\"node n2566 p4634\" transform=\"translate(-22.0161 4.50785)\"><g class=\"leaf node n25 p2566 sample\" transform=\"translate(18.871 14.1111)\"><path class=\"edge\" d=\"M 0 0 V -14.1111 H -18.871\"/><circle cx=\"0\" cy=\"0\" r=\"1\"/><text>CHB</text></g><g class=\"node n91 p2566\" transform=\"translate(-18.871 10.9232)\"><g class=\"leaf node n21 p91 sample\" transform=\"translate(-12.5806 3.18798)\"><path class=\"edge\" d=\"M 0 0 V -3.18798 H 12.5806\"/><circle cx=\"0\" cy=\"0\" r=\"1\"/><text>CHB</text></g><g class=\"leaf node n27 p91 sample\" transform=\"translate(12.5806 3.18798)\"><path class=\"edge\" d=\"M 0 0 V -3.18798 H -12.5806\"/><circle cx=\"0\" cy=\"0\" r=\"1\"/><text>CHB</text></g><path class=\"edge\" d=\"M 0 0 V -10.9232 H 18.871\"/><circle cx=\"0\" cy=\"0\" r=\"1\"/><text class=\"rgt\">CHB</text></g><path class=\"edge\" d=\"M 0 0 V -4.50785 H 22.0161\"/><circle cx=\"0\" cy=\"0\" r=\"1\"/><text class=\"rgt\">CHB</text></g><path class=\"edge\" d=\"M 0 0 V -70.8689 H -73.125\"/><circle cx=\"0\" cy=\"0\" r=\"1\"/><text class=\"lft\">CEU</text></g><g class=\"node n13660 p17829\" transform=\"translate(-73.125 28.255)\"><g class=\"leaf node n7 p13660 sample\" transform=\"translate(67.621 61.2329)\"><path class=\"edge\" d=\"M 0 0 V -61.2329 H -67.621\"/><circle cx=\"0\" cy=\"0\" r=\"1\"/><text>YRI</text></g><g class=\"node n10396 p13660\" transform=\"translate(-67.621 18.3028)\"><g class=\"node n4586 p10396\" transform=\"translate(59.7581 24.4534)\"><g class=\"node n4005 p4586\" transform=\"translate(-37.7419 1.32394)\"><g class=\"node n647 p4005\" transform=\"translate(25.1613 8.75857)\"><g class=\"leaf node n16 p647 sample\" transform=\"translate(-12.5806 8.39416)\"><path class=\"edge\" d=\"M 0 0 V -8.39416 H 12.5806\"/><circle cx=\"0\" cy=\"0\" r=\"1\"/><text>CEU</text></g><g class=\"leaf node n17 p647 sample\" transform=\"translate(12.5806 8.39416)\"><path class=\"edge\" d=\"M 0 0 V -8.39416 H -12.5806\"/><circle cx=\"0\" cy=\"0\" r=\"1\"/><text>CEU</text></g><path class=\"edge\" d=\"M 0 0 V -8.75857 H -25.1613\"/><circle cx=\"0\" cy=\"0\" r=\"1\"/><text class=\"lft\">CEU</text></g><g class=\"node n1873 p4005\" transform=\"translate(-25.1613 4.74432)\"><g class=\"leaf node n11 p1873 sample\" transform=\"translate(-12.5806 12.4084)\"><path class=\"edge\" d=\"M 0 0 V -12.4084 H 12.5806\"/><circle cx=\"0\" cy=\"0\" r=\"1\"/><text>CEU</text></g><g class=\"leaf node n19 p1873 sample\" transform=\"translate(12.5806 12.4084)\"><path class=\"edge\" d=\"M 0 0 V -12.4084 H -12.5806\"/><circle cx=\"0\" cy=\"0\" r=\"1\"/><text>CEU</text></g><path class=\"edge\" d=\"M 0 0 V -4.74432 H 25.1613\"/><circle cx=\"0\" cy=\"0\" r=\"1\"/><text class=\"rgt\">CEU</text></g><path class=\"edge\" d=\"M 0 0 V -1.32394 H 37.7419\"/><circle cx=\"0\" cy=\"0\" r=\"1\"/><text class=\"rgt\">CEU</text></g><g class=\"node n4124 p4586\" transform=\"translate(37.7419 1.07922)\"><g class=\"leaf node n13 p4124 sample\" transform=\"translate(-12.5806 17.3975)\"><path class=\"edge\" d=\"M 0 0 V -17.3975 H 12.5806\"/><circle cx=\"0\" cy=\"0\" r=\"1\"/><text>CEU</text></g><g class=\"leaf node n22 p4124 sample\" transform=\"translate(12.5806 17.3975)\"><path class=\"edge\" d=\"M 0 0 V -17.3975 H -12.5806\"/><circle cx=\"0\" cy=\"0\" r=\"1\"/><text>CHB</text></g><path class=\"edge\" d=\"M 0 0 V -1.07922 H -37.7419\"/><circle cx=\"0\" cy=\"0\" r=\"1\"/><text class=\"lft\">CEU</text></g><path class=\"edge\" d=\"M 0 0 V -24.4534 H -59.7581\"/><circle cx=\"0\" cy=\"0\" r=\"1\"/><text class=\"lft\">CEU</text></g><g class=\"node n4666 p10396\" transform=\"translate(-59.7581 24.2147)\"><g class=\"leaf node n26 p4666 sample\" transform=\"translate(18.871 18.7153)\"><path class=\"edge\" d=\"M 0 0 V -18.7153 H -18.871\"/><circle cx=\"0\" cy=\"0\" r=\"1\"/><text>CHB</text></g><g class=\"node n4094 p4666\" transform=\"translate(-18.871 1.38007)\"><g class=\"leaf node n1 p4094 sample\" transform=\"translate(-12.5806 17.3353)\"><path class=\"edge\" d=\"M 0 0 V -17.3353 H 12.5806\"/><circle cx=\"0\" cy=\"0\" r=\"1\"/><text>YRI</text></g><g class=\"leaf node n18 p4094 sample\" transform=\"translate(12.5806 17.3353)\"><path class=\"edge\" d=\"M 0 0 V -17.3353 H -12.5806\"/><circle cx=\"0\" cy=\"0\" r=\"1\"/><text>CEU</text></g><path class=\"edge\" d=\"M 0 0 V -1.38007 H 18.871\"/><circle cx=\"0\" cy=\"0\" r=\"1\"/><text class=\"rgt\">CEU</text></g><path class=\"edge\" d=\"M 0 0 V -24.2147 H 59.7581\"/><circle cx=\"0\" cy=\"0\" r=\"1\"/><text class=\"rgt\">CEU</text></g><path class=\"edge\" d=\"M 0 0 V -18.3028 H 67.621\"/><circle cx=\"0\" cy=\"0\" r=\"1\"/><text class=\"rgt\">CEU</text></g><path class=\"edge\" d=\"M 0 0 V -28.255 H 73.125\"/><circle cx=\"0\" cy=\"0\" r=\"1\"/><text class=\"rgt\">CEU</text></g><path class=\"edge\" d=\"M 0 0 V -191.728 H 60.1512\"/><circle cx=\"0\" cy=\"0\" r=\"1\"/><text class=\"rgt\">CEU</text></g><path class=\"edge\" d=\"M 0 0 V -70.7804 H 58.3821\"/><circle cx=\"0\" cy=\"0\" r=\"1\"/><text class=\"rgt\">YRI</text></g><path class=\"edge\" d=\"M 0 0 V -88.0034 H -212.839\"/><circle cx=\"0\" cy=\"0\" r=\"1\"/><text class=\"lft\">YRI</text></g><circle cx=\"0\" cy=\"0\" r=\"1\"/><text>YRI</text></g></g></svg>"
      ],
      "text/plain": [
       "<IPython.core.display.SVG object>"
      ]
     },
     "metadata": {},
     "output_type": "display_data"
    }
   ],
   "source": [
    "t = ts.first()\n",
    "fig = SVG(t.draw_svg(root_svg_attributes={\"id\": \"first\"}, size=(800,500), # max_tree_height=\"ts\",\n",
    "               node_labels = {n.id : ts.population(n.population).metadata['id'] for n in ts.nodes()},\n",
    "               style=\"first.tree .edge {stroke-width: 3pt}\" + color_edges(t) +\n",
    "                     \"first.tree .node:not(.sample) > text {visibility: hidden}\"\n",
    "                     \"first.tree .node.leaf > text { transform: translateY(0.5em) rotate(90deg); text-anchor: start}\"))\n",
    "display(fig)"
   ]
  },
  {
   "cell_type": "markdown",
   "metadata": {},
   "source": [
    "The trees vary quite a bit in height - at a few places on the genome,\n",
    "everyone's common ancestor lived quite a long time ago.\n",
    "Here's the sequence of trees leading up to one of those places:"
   ]
  },
  {
   "cell_type": "code",
   "execution_count": 9,
   "metadata": {},
   "outputs": [
    {
     "data": {
      "text/plain": [
       "(42214631.57510435, 42215518.353378564)"
      ]
     },
     "execution_count": 9,
     "metadata": {},
     "output_type": "execute_result"
    }
   ],
   "source": [
    "max_node = np.argmax(ts.tables.nodes.time)\n",
    "left, right = (\n",
    "        np.min(ts.tables.edges.left[ts.tables.edges.parent == max_node]),\n",
    "        np.max(ts.tables.edges.right[ts.tables.edges.parent == max_node])\n",
    "    )\n",
    "left, right"
   ]
  },
  {
   "cell_type": "code",
   "execution_count": 10,
   "metadata": {},
   "outputs": [
    {
     "data": {
      "image/svg+xml": [
       "<svg baseProfile=\"full\" height=\"500\" id=\"first\" version=\"1.1\" width=\"800\" xmlns=\"http://www.w3.org/2000/svg\" xmlns:ev=\"http://www.w3.org/2001/xml-events\" xmlns:xlink=\"http://www.w3.org/1999/xlink\"><defs><style type=\"text/css\"><![CDATA[.axis {font-weight: bold}.tree, .axis {font-size: 14px; text-anchor:middle;}.edge {stroke: black; fill: none}.node > circle {r: 3px; fill: black; stroke: none}.tree text {dominant-baseline: middle}.mut > text.lft {transform: translateX(0.5em); text-anchor: start}.mut > text.rgt {transform: translateX(-0.5em); text-anchor: end}.root > text {transform: translateY(-0.8em)}.leaf > text {transform: translateY(1em)}.node > text.lft {transform: translate(0.5em, -0.5em); text-anchor: start}.node > text.rgt {transform: translate(-0.5em, -0.5em); text-anchor: end}.mut {fill: red; font-style: italic}]]></style><style type=\"text/css\"><![CDATA[.tree .edge {stroke-width: 3pt} .tree .n29484 .edge {stroke: red }  .tree .n12042 .edge {stroke: red }  .tree .n1 .edge {stroke: red }  .tree .n4 .edge {stroke: red }  .tree .n2 .edge {stroke: red }  .tree .n23456 .edge {stroke: red }  .tree .n0 .edge {stroke: red }  .tree .n8 .edge {stroke: red }  .tree .n7 .edge {stroke: red }  .tree .n6325 .edge {stroke: red }  .tree .n5 .edge {stroke: red }  .tree .n9 .edge {stroke: red }  .tree .n27 .edge {stroke: green }  .tree .n14 .edge {stroke: blue }  .tree .n29 .edge {stroke: green }  .tree .n10 .edge {stroke: blue }  .tree .n4873 .edge {stroke: green }  .tree .n21 .edge {stroke: green }  .tree .n3835 .edge {stroke: green }  .tree .n26 .edge {stroke: green }  .tree .n1607 .edge {stroke: green }  .tree .n25 .edge {stroke: green }  .tree .n489 .edge {stroke: green }  .tree .n24 .edge {stroke: green }  .tree .n28 .edge {stroke: green }  .tree .n3271 .edge {stroke: blue }  .tree .n118 .edge {stroke: blue }  .tree .n11 .edge {stroke: blue }  .tree .n12 .edge {stroke: blue }  .tree .n18 .edge {stroke: blue }  .tree .n3 .edge {stroke: red }  .tree .n13 .edge {stroke: blue }  .tree .n15 .edge {stroke: blue }  .tree .n22 .edge {stroke: green }  .tree .n6 .edge {stroke: red }  .tree .n23 .edge {stroke: green }  .tree .n19 .edge {stroke: blue }  .tree .n17 .edge {stroke: blue }  .tree .n16 .edge {stroke: blue }  .tree .n20 .edge {stroke: green } .tree .node:not(.sample) > text {visibility: hidden}.tree .node.leaf > text { transform: translateY(0.5em) rotate(90deg); text-anchor: start}]]></style></defs><g class=\"tree t74370\"><g class=\"node n55007 root\" transform=\"translate(524.289 30.0)\"><g class=\"node n29484 p55007\" transform=\"translate(221.679 419.545)\"><g class=\"node n12042 p29484\" transform=\"translate(-18.871 15.2748)\"><g class=\"leaf node n1 p12042 sample\" transform=\"translate(-12.5806 5.18015)\"><path class=\"edge\" d=\"M 0 0 V -5.18015 H 12.5806\"/><circle cx=\"0\" cy=\"0\" r=\"1\"/><text>YRI</text></g><g class=\"leaf node n4 p12042 sample\" transform=\"translate(12.5806 5.18015)\"><path class=\"edge\" d=\"M 0 0 V -5.18015 H -12.5806\"/><circle cx=\"0\" cy=\"0\" r=\"1\"/><text>YRI</text></g><path class=\"edge\" d=\"M 0 0 V -15.2748 H 18.871\"/><circle cx=\"0\" cy=\"0\" r=\"1\"/><text class=\"rgt\">YRI</text></g><g class=\"leaf node n2 p29484 sample\" transform=\"translate(18.871 20.4549)\"><path class=\"edge\" d=\"M 0 0 V -20.4549 H -18.871\"/><circle cx=\"0\" cy=\"0\" r=\"1\"/><text>YRI</text></g><path class=\"edge\" d=\"M 0 0 V -419.545 H -221.679\"/><circle cx=\"0\" cy=\"0\" r=\"1\"/><text class=\"lft\">YRI</text></g><g class=\"node n42275 p55007\" transform=\"translate(-221.679 391.586)\"><g class=\"node n23456 p42275\" transform=\"translate(-254.869 34.4608)\"><g class=\"leaf node n0 p23456 sample\" transform=\"translate(-12.5806 13.953)\"><path class=\"edge\" d=\"M 0 0 V -13.953 H 12.5806\"/><circle cx=\"0\" cy=\"0\" r=\"1\"/><text>YRI</text></g><g class=\"leaf node n8 p23456 sample\" transform=\"translate(12.5806 13.953)\"><path class=\"edge\" d=\"M 0 0 V -13.953 H -12.5806\"/><circle cx=\"0\" cy=\"0\" r=\"1\"/><text>YRI</text></g><path class=\"edge\" d=\"M 0 0 V -34.4608 H 254.869\"/><circle cx=\"0\" cy=\"0\" r=\"1\"/><text class=\"rgt\">YRI</text></g><g class=\"node n33187 p42275\" transform=\"translate(254.869 23.1271)\"><g class=\"leaf node n7 p33187 sample\" transform=\"translate(131.876 25.2867)\"><path class=\"edge\" d=\"M 0 0 V -25.2867 H -131.876\"/><circle cx=\"0\" cy=\"0\" r=\"1\"/><text>YRI</text></g><g class=\"node n29625 p33187\" transform=\"translate(-131.876 4.67171)\"><g class=\"node n17368 p29625\" transform=\"translate(-170.969 12.0023)\"><g class=\"node n7595 p17368\" transform=\"translate(92.0943 5.64721)\"><g class=\"node n6325 p7595\" transform=\"translate(-72.5353 0.519105)\"><g class=\"leaf node n5 p6325 sample\" transform=\"translate(-12.5806 2.44636)\"><path class=\"edge\" d=\"M 0 0 V -2.44636 H 12.5806\"/><circle cx=\"0\" cy=\"0\" r=\"1\"/><text>YRI</text></g><g class=\"leaf node n9 p6325 sample\" transform=\"translate(12.5806 2.44636)\"><path class=\"edge\" d=\"M 0 0 V -2.44636 H -12.5806\"/><circle cx=\"0\" cy=\"0\" r=\"1\"/><text>YRI</text></g><path class=\"edge\" d=\"M 0 0 V -0.519105 H 72.5353\"/><circle cx=\"0\" cy=\"0\" r=\"1\"/><text class=\"rgt\">YRI</text></g><g class=\"node n7226 p7595\" transform=\"translate(72.5353 0.148091)\"><g class=\"node n3710 p7226\" transform=\"translate(75.0907 1.16909)\"><g class=\"leaf node n27 p3710 sample\" transform=\"translate(18.871 1.64828)\"><path class=\"edge\" d=\"M 0 0 V -1.64828 H -18.871\"/><circle cx=\"0\" cy=\"0\" r=\"1\"/><text>CHB</text></g><g class=\"node n2018 p3710\" transform=\"translate(-18.871 0.369829)\"><g class=\"leaf node n14 p2018 sample\" transform=\"translate(-12.5806 1.27845)\"><path class=\"edge\" d=\"M 0 0 V -1.27845 H 12.5806\"/><circle cx=\"0\" cy=\"0\" r=\"1\"/><text>CEU</text></g><g class=\"leaf node n29 p2018 sample\" transform=\"translate(12.5806 1.27845)\"><path class=\"edge\" d=\"M 0 0 V -1.27845 H -12.5806\"/><circle cx=\"0\" cy=\"0\" r=\"1\"/><text>CHB</text></g><path class=\"edge\" d=\"M 0 0 V -0.369829 H 18.871\"/><circle cx=\"0\" cy=\"0\" r=\"1\"/><text class=\"rgt\">CHB</text></g><path class=\"edge\" d=\"M 0 0 V -1.16909 H -75.0907\"/><circle cx=\"0\" cy=\"0\" r=\"1\"/><text class=\"lft\">CHB</text></g><g class=\"node n4898 p7226\" transform=\"translate(-75.0907 0.871212)\"><g class=\"leaf node n10 p4898 sample\" transform=\"translate(-32.2379 1.94616)\"><path class=\"edge\" d=\"M 0 0 V -1.94616 H 32.2379\"/><circle cx=\"0\" cy=\"0\" r=\"1\"/><text>CEU</text></g><g class=\"node n4873 p4898\" transform=\"translate(32.2379 0.00671016)\"><g class=\"leaf node n21 p4873 sample\" transform=\"translate(-39.3145 1.93945)\"><path class=\"edge\" d=\"M 0 0 V -1.93945 H 39.3145\"/><circle cx=\"0\" cy=\"0\" r=\"1\"/><text>CHB</text></g><g class=\"node n3835 p4873\" transform=\"translate(39.3145 0.264997)\"><g class=\"leaf node n26 p3835 sample\" transform=\"translate(22.0161 1.67445)\"><path class=\"edge\" d=\"M 0 0 V -1.67445 H -22.0161\"/><circle cx=\"0\" cy=\"0\" r=\"1\"/><text>CHB</text></g><g class=\"node n1607 p3835\" transform=\"translate(-22.0161 0.495133)\"><g class=\"leaf node n25 p1607 sample\" transform=\"translate(18.871 1.17932)\"><path class=\"edge\" d=\"M 0 0 V -1.17932 H -18.871\"/><circle cx=\"0\" cy=\"0\" r=\"1\"/><text>CHB</text></g><g class=\"node n489 p1607\" transform=\"translate(-18.871 0.430674)\"><g class=\"leaf node n24 p489 sample\" transform=\"translate(-12.5806 0.748647)\"><path class=\"edge\" d=\"M 0 0 V -0.748647 H 12.5806\"/><circle cx=\"0\" cy=\"0\" r=\"1\"/><text>CHB</text></g><g class=\"leaf node n28 p489 sample\" transform=\"translate(12.5806 0.748647)\"><path class=\"edge\" d=\"M 0 0 V -0.748647 H -12.5806\"/><circle cx=\"0\" cy=\"0\" r=\"1\"/><text>CHB</text></g><path class=\"edge\" d=\"M 0 0 V -0.430674 H 18.871\"/><circle cx=\"0\" cy=\"0\" r=\"1\"/><text class=\"rgt\">CHB</text></g><path class=\"edge\" d=\"M 0 0 V -0.495133 H 22.0161\"/><circle cx=\"0\" cy=\"0\" r=\"1\"/><text class=\"rgt\">CHB</text></g><path class=\"edge\" d=\"M 0 0 V -0.264997 H -39.3145\"/><circle cx=\"0\" cy=\"0\" r=\"1\"/><text class=\"lft\">CHB</text></g><path class=\"edge\" d=\"M 0 0 V -0.00671016 H -32.2379\"/><circle cx=\"0\" cy=\"0\" r=\"1\"/><text class=\"lft\">CEU</text></g><path class=\"edge\" d=\"M 0 0 V -0.871212 H 75.0907\"/><circle cx=\"0\" cy=\"0\" r=\"1\"/><text class=\"rgt\">CEU</text></g><path class=\"edge\" d=\"M 0 0 V -0.148091 H -72.5353\"/><circle cx=\"0\" cy=\"0\" r=\"1\"/><text class=\"lft\">CEU</text></g><path class=\"edge\" d=\"M 0 0 V -5.64721 H -92.0943\"/><circle cx=\"0\" cy=\"0\" r=\"1\"/><text class=\"lft\">CEU</text></g><g class=\"node n15977 p17368\" transform=\"translate(-92.0943 0.990377)\"><g class=\"node n3271 p15977\" transform=\"translate(55.0403 6.05877)\"><g class=\"node n118 p3271\" transform=\"translate(-18.871 1.19937)\"><g class=\"leaf node n11 p118 sample\" transform=\"translate(-12.5806 0.364159)\"><path class=\"edge\" d=\"M 0 0 V -0.364159 H 12.5806\"/><circle cx=\"0\" cy=\"0\" r=\"1\"/><text>CEU</text></g><g class=\"leaf node n12 p118 sample\" transform=\"translate(12.5806 0.364159)\"><path class=\"edge\" d=\"M 0 0 V -0.364159 H -12.5806\"/><circle cx=\"0\" cy=\"0\" r=\"1\"/><text>CEU</text></g><path class=\"edge\" d=\"M 0 0 V -1.19937 H 18.871\"/><circle cx=\"0\" cy=\"0\" r=\"1\"/><text class=\"rgt\">CEU</text></g><g class=\"leaf node n18 p3271 sample\" transform=\"translate(18.871 1.56353)\"><path class=\"edge\" d=\"M 0 0 V -1.56353 H -18.871\"/><circle cx=\"0\" cy=\"0\" r=\"1\"/><text>CEU</text></g><path class=\"edge\" d=\"M 0 0 V -6.05877 H -55.0403\"/><circle cx=\"0\" cy=\"0\" r=\"1\"/><text class=\"lft\">CEU</text></g><g class=\"node n11900 p15977\" transform=\"translate(-55.0403 2.51133)\"><g class=\"leaf node n3 p11900 sample\" transform=\"translate(-22.0161 5.11097)\"><path class=\"edge\" d=\"M 0 0 V -5.11097 H 22.0161\"/><circle cx=\"0\" cy=\"0\" r=\"1\"/><text>YRI</text></g><g class=\"node n6023 p11900\" transform=\"translate(22.0161 2.78147)\"><g class=\"leaf node n13 p6023 sample\" transform=\"translate(-18.871 2.3295)\"><path class=\"edge\" d=\"M 0 0 V -2.3295 H 18.871\"/><circle cx=\"0\" cy=\"0\" r=\"1\"/><text>CEU</text></g><g class=\"node n5812 p6023\" transform=\"translate(18.871 0.0756154)\"><g class=\"leaf node n15 p5812 sample\" transform=\"translate(-12.5806 2.25388)\"><path class=\"edge\" d=\"M 0 0 V -2.25388 H 12.5806\"/><circle cx=\"0\" cy=\"0\" r=\"1\"/><text>CEU</text></g><g class=\"leaf node n22 p5812 sample\" transform=\"translate(12.5806 2.25388)\"><path class=\"edge\" d=\"M 0 0 V -2.25388 H -12.5806\"/><circle cx=\"0\" cy=\"0\" r=\"1\"/><text>CHB</text></g><path class=\"edge\" d=\"M 0 0 V -0.0756154 H -18.871\"/><circle cx=\"0\" cy=\"0\" r=\"1\"/><text class=\"lft\">CEU</text></g><path class=\"edge\" d=\"M 0 0 V -2.78147 H -22.0161\"/><circle cx=\"0\" cy=\"0\" r=\"1\"/><text class=\"lft\">CEU</text></g><path class=\"edge\" d=\"M 0 0 V -2.51133 H 55.0403\"/><circle cx=\"0\" cy=\"0\" r=\"1\"/><text class=\"rgt\">CEU</text></g><path class=\"edge\" d=\"M 0 0 V -0.990377 H 92.0943\"/><circle cx=\"0\" cy=\"0\" r=\"1\"/><text class=\"rgt\">YRI</text></g><path class=\"edge\" d=\"M 0 0 V -12.0023 H 170.969\"/><circle cx=\"0\" cy=\"0\" r=\"1\"/><text class=\"rgt\">YRI</text></g><g class=\"node n18804 p29625\" transform=\"translate(170.969 10.8959)\"><g class=\"node n14877 p18804\" transform=\"translate(-45.6048 2.83422)\"><g class=\"leaf node n6 p14877 sample\" transform=\"translate(-12.5806 6.88482)\"><path class=\"edge\" d=\"M 0 0 V -6.88482 H 12.5806\"/><circle cx=\"0\" cy=\"0\" r=\"1\"/><text>YRI</text></g><g class=\"leaf node n23 p14877 sample\" transform=\"translate(12.5806 6.88482)\"><path class=\"edge\" d=\"M 0 0 V -6.88482 H -12.5806\"/><circle cx=\"0\" cy=\"0\" r=\"1\"/><text>CHB</text></g><path class=\"edge\" d=\"M 0 0 V -2.83422 H 45.6048\"/><circle cx=\"0\" cy=\"0\" r=\"1\"/><text class=\"rgt\">CEU</text></g><g class=\"node n18633 p18804\" transform=\"translate(45.6048 0.138019)\"><g class=\"leaf node n19 p18633 sample\" transform=\"translate(22.0161 9.58103)\"><path class=\"edge\" d=\"M 0 0 V -9.58103 H -22.0161\"/><circle cx=\"0\" cy=\"0\" r=\"1\"/><text>CEU</text></g><g class=\"node n8259 p18633\" transform=\"translate(-22.0161 6.33243)\"><g class=\"leaf node n17 p8259 sample\" transform=\"translate(18.871 3.2486)\"><path class=\"edge\" d=\"M 0 0 V -3.2486 H -18.871\"/><circle cx=\"0\" cy=\"0\" r=\"1\"/><text>CEU</text></g><g class=\"node n5148 p8259\" transform=\"translate(-18.871 1.21643)\"><g class=\"leaf node n16 p5148 sample\" transform=\"translate(-12.5806 2.03217)\"><path class=\"edge\" d=\"M 0 0 V -2.03217 H 12.5806\"/><circle cx=\"0\" cy=\"0\" r=\"1\"/><text>CEU</text></g><g class=\"leaf node n20 p5148 sample\" transform=\"translate(12.5806 2.03217)\"><path class=\"edge\" d=\"M 0 0 V -2.03217 H -12.5806\"/><circle cx=\"0\" cy=\"0\" r=\"1\"/><text>CHB</text></g><path class=\"edge\" d=\"M 0 0 V -1.21643 H 18.871\"/><circle cx=\"0\" cy=\"0\" r=\"1\"/><text class=\"rgt\">CEU</text></g><path class=\"edge\" d=\"M 0 0 V -6.33243 H 22.0161\"/><circle cx=\"0\" cy=\"0\" r=\"1\"/><text class=\"rgt\">CEU</text></g><path class=\"edge\" d=\"M 0 0 V -0.138019 H -45.6048\"/><circle cx=\"0\" cy=\"0\" r=\"1\"/><text class=\"lft\">CEU</text></g><path class=\"edge\" d=\"M 0 0 V -10.8959 H -170.969\"/><circle cx=\"0\" cy=\"0\" r=\"1\"/><text class=\"lft\">CEU</text></g><path class=\"edge\" d=\"M 0 0 V -4.67171 H 131.876\"/><circle cx=\"0\" cy=\"0\" r=\"1\"/><text class=\"rgt\">YRI</text></g><path class=\"edge\" d=\"M 0 0 V -23.1271 H -254.869\"/><circle cx=\"0\" cy=\"0\" r=\"1\"/><text class=\"lft\">YRI</text></g><path class=\"edge\" d=\"M 0 0 V -391.586 H 221.679\"/><circle cx=\"0\" cy=\"0\" r=\"1\"/><text class=\"rgt\">YRI</text></g><circle cx=\"0\" cy=\"0\" r=\"1\"/><text>YRI</text></g></g></svg>"
      ],
      "text/plain": [
       "<IPython.core.display.SVG object>"
      ]
     },
     "metadata": {},
     "output_type": "display_data"
    }
   ],
   "source": [
    "for t in ts.trees():\n",
    "    if t.interval[1] > right:\n",
    "        break\n",
    "    if t.interval[0] > left - 3e3:\n",
    "        fig = SVG(t.draw_svg(root_svg_attributes={\"id\": \"first\"}, size=(800,500), max_tree_height=\"ts\",\n",
    "                   node_labels = {n.id : ts.population(n.population).metadata['id'] for n in ts.nodes()},\n",
    "                   style=\".tree .edge {stroke-width: 3pt}\" + color_edges(t) +\n",
    "                         \".tree .node:not(.sample) > text {visibility: hidden}\"\n",
    "                         \".tree .node.leaf > text { transform: translateY(0.5em) rotate(90deg); text-anchor: start}\"))\n",
    "        clear_output(wait=True)\n",
    "        display(fig)\n"
   ]
  }
 ],
 "metadata": {
  "kernelspec": {
   "display_name": "Python 3",
   "language": "python",
   "name": "python3"
  },
  "language_info": {
   "codemirror_mode": {
    "name": "ipython",
    "version": 3
   },
   "file_extension": ".py",
   "mimetype": "text/x-python",
   "name": "python",
   "nbconvert_exporter": "python",
   "pygments_lexer": "ipython3",
   "version": "3.7.2"
  }
 },
 "nbformat": 4,
 "nbformat_minor": 2
}
